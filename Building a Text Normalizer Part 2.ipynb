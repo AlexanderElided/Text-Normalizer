{
 "cells": [
  {
   "cell_type": "code",
   "execution_count": 1,
   "metadata": {},
   "outputs": [],
   "source": [
    "import requests\n",
    "from bs4 import BeautifulSoup\n",
    "import pandas as pd\n",
    "\n",
    "import unicodedata\n",
    "import re\n",
    "import spacy\n",
    "import nltk\n",
    "from nltk.tokenize.toktok import ToktokTokenizer\n",
    "import contractions \n",
    "\n",
    "nlp = spacy.load('en_core_web_sm')"
   ]
  },
  {
   "cell_type": "code",
   "execution_count": 2,
   "metadata": {},
   "outputs": [],
   "source": [
    "seed_urls = [\n",
    "    \"https://www.nytimes.com/section/world\",\n",
    "    \"https://www.nytimes.com/section/technology\",\n",
    "    \"https://www.nytimes.com/section/science\"\n",
    "            ]\n",
    "seed_test = \"https://www.nytimes.com/section/world\""
   ]
  },
  {
   "cell_type": "code",
   "execution_count": 3,
   "metadata": {},
   "outputs": [],
   "source": [
    "def build_dataset(seed_urls):\n",
    "    news_data = []\n",
    "    for url in seed_urls:\n",
    "        news_category = url.split('/')[-1]\n",
    "        data = requests.get(url)\n",
    "        soup = BeautifulSoup(data.content, 'html.parser')\n",
    "        news_articles = [\n",
    "            {\n",
    "                'news_headline': k.find('h2', attrs={'class': 'css-1j9dxys e1xfvim30'}).string,\n",
    "                'news_article': k.find('p', attrs={'class': 'css-1echdzn e1xfvim31'}).string,\n",
    "                'news_category': news_category\n",
    "            }\n",
    "            for k in soup.find_all('div', class_=[\"css-1cp3ece\"])\n",
    "        ]\n",
    "        news_data.extend(news_articles)\n",
    "    \n",
    "    df = pd.DataFrame(news_data)\n",
    "    df = df[['news_headline', 'news_article', 'news_category']]\n",
    "    return df"
   ]
  },
  {
   "cell_type": "code",
   "execution_count": 4,
   "metadata": {},
   "outputs": [],
   "source": [
    "news_df = build_dataset(seed_urls)"
   ]
  },
  {
   "cell_type": "code",
   "execution_count": 5,
   "metadata": {},
   "outputs": [
    {
     "data": {
      "text/html": [
       "<div>\n",
       "<style scoped>\n",
       "    .dataframe tbody tr th:only-of-type {\n",
       "        vertical-align: middle;\n",
       "    }\n",
       "\n",
       "    .dataframe tbody tr th {\n",
       "        vertical-align: top;\n",
       "    }\n",
       "\n",
       "    .dataframe thead th {\n",
       "        text-align: right;\n",
       "    }\n",
       "</style>\n",
       "<table border=\"1\" class=\"dataframe\">\n",
       "  <thead>\n",
       "    <tr style=\"text-align: right;\">\n",
       "      <th></th>\n",
       "      <th>news_headline</th>\n",
       "      <th>news_article</th>\n",
       "      <th>news_category</th>\n",
       "    </tr>\n",
       "  </thead>\n",
       "  <tbody>\n",
       "    <tr>\n",
       "      <th>0</th>\n",
       "      <td>Sorry About Your Sleep</td>\n",
       "      <td>A group of U.S. senators has joined the ranks ...</td>\n",
       "      <td>world</td>\n",
       "    </tr>\n",
       "    <tr>\n",
       "      <th>1</th>\n",
       "      <td>Biden Takes First Tentative Steps to Address G...</td>\n",
       "      <td>Under pressure to play catch-up on “vaccine di...</td>\n",
       "      <td>world</td>\n",
       "    </tr>\n",
       "    <tr>\n",
       "      <th>2</th>\n",
       "      <td>The pace of U.S. vaccinations has been acceler...</td>\n",
       "      <td>The rate of vaccinations has ramped up about 4...</td>\n",
       "      <td>world</td>\n",
       "    </tr>\n",
       "    <tr>\n",
       "      <th>3</th>\n",
       "      <td>Too Much on the Bottom and Not Enough in the M...</td>\n",
       "      <td>An online post of a Nanaimo bar photo swiftly ...</td>\n",
       "      <td>world</td>\n",
       "    </tr>\n",
       "    <tr>\n",
       "      <th>4</th>\n",
       "      <td>W.H.O. Grants Johnson &amp; Johnson Vaccine Emerge...</td>\n",
       "      <td>The World Health Organization’s approval on Fr...</td>\n",
       "      <td>world</td>\n",
       "    </tr>\n",
       "    <tr>\n",
       "      <th>5</th>\n",
       "      <td>A Green Wave? Mexico’s Marijuana Market May Be...</td>\n",
       "      <td>Lawmakers in Mexico are on the verge of legali...</td>\n",
       "      <td>world</td>\n",
       "    </tr>\n",
       "    <tr>\n",
       "      <th>6</th>\n",
       "      <td>The W.H.O. grants emergency authorization to t...</td>\n",
       "      <td>The vaccine is now eligible for distribution t...</td>\n",
       "      <td>world</td>\n",
       "    </tr>\n",
       "    <tr>\n",
       "      <th>7</th>\n",
       "      <td>Why the Rape Claim Against Australia’s Attorne...</td>\n",
       "      <td>Some see unsettling parallels with another pow...</td>\n",
       "      <td>world</td>\n",
       "    </tr>\n",
       "    <tr>\n",
       "      <th>8</th>\n",
       "      <td>Michigan widens vaccine access to include all ...</td>\n",
       "      <td>Gov. Gretchen Whitmer announced the changes a ...</td>\n",
       "      <td>world</td>\n",
       "    </tr>\n",
       "    <tr>\n",
       "      <th>9</th>\n",
       "      <td>As more of the U.S. returns to indoor dining, ...</td>\n",
       "      <td>About 17 states have made restaurant workers e...</td>\n",
       "      <td>world</td>\n",
       "    </tr>\n",
       "  </tbody>\n",
       "</table>\n",
       "</div>"
      ],
      "text/plain": [
       "                                       news_headline  \\\n",
       "0                             Sorry About Your Sleep   \n",
       "1  Biden Takes First Tentative Steps to Address G...   \n",
       "2  The pace of U.S. vaccinations has been acceler...   \n",
       "3  Too Much on the Bottom and Not Enough in the M...   \n",
       "4  W.H.O. Grants Johnson & Johnson Vaccine Emerge...   \n",
       "5  A Green Wave? Mexico’s Marijuana Market May Be...   \n",
       "6  The W.H.O. grants emergency authorization to t...   \n",
       "7  Why the Rape Claim Against Australia’s Attorne...   \n",
       "8  Michigan widens vaccine access to include all ...   \n",
       "9  As more of the U.S. returns to indoor dining, ...   \n",
       "\n",
       "                                        news_article news_category  \n",
       "0  A group of U.S. senators has joined the ranks ...         world  \n",
       "1  Under pressure to play catch-up on “vaccine di...         world  \n",
       "2  The rate of vaccinations has ramped up about 4...         world  \n",
       "3  An online post of a Nanaimo bar photo swiftly ...         world  \n",
       "4  The World Health Organization’s approval on Fr...         world  \n",
       "5  Lawmakers in Mexico are on the verge of legali...         world  \n",
       "6  The vaccine is now eligible for distribution t...         world  \n",
       "7  Some see unsettling parallels with another pow...         world  \n",
       "8  Gov. Gretchen Whitmer announced the changes a ...         world  \n",
       "9  About 17 states have made restaurant workers e...         world  "
      ]
     },
     "execution_count": 5,
     "metadata": {},
     "output_type": "execute_result"
    }
   ],
   "source": [
    "news_df.head(10)"
   ]
  },
  {
   "cell_type": "code",
   "execution_count": 6,
   "metadata": {},
   "outputs": [
    {
     "data": {
      "text/html": [
       "<div>\n",
       "<style scoped>\n",
       "    .dataframe tbody tr th:only-of-type {\n",
       "        vertical-align: middle;\n",
       "    }\n",
       "\n",
       "    .dataframe tbody tr th {\n",
       "        vertical-align: top;\n",
       "    }\n",
       "\n",
       "    .dataframe thead th {\n",
       "        text-align: right;\n",
       "    }\n",
       "</style>\n",
       "<table border=\"1\" class=\"dataframe\">\n",
       "  <thead>\n",
       "    <tr style=\"text-align: right;\">\n",
       "      <th></th>\n",
       "      <th>news_headline</th>\n",
       "      <th>news_article</th>\n",
       "      <th>news_category</th>\n",
       "    </tr>\n",
       "  </thead>\n",
       "  <tbody>\n",
       "    <tr>\n",
       "      <th>20</th>\n",
       "      <td>Coyote That Attacked Five in Bay Area Is Final...</td>\n",
       "      <td>The animal, which had bitten five people, incl...</td>\n",
       "      <td>science</td>\n",
       "    </tr>\n",
       "    <tr>\n",
       "      <th>21</th>\n",
       "      <td>Countries Tried to Curb Trade in Plastic Waste...</td>\n",
       "      <td>Data shows that American exporters continue to...</td>\n",
       "      <td>science</td>\n",
       "    </tr>\n",
       "    <tr>\n",
       "      <th>22</th>\n",
       "      <td>Why Older People Managed to Stay Happier Throu...</td>\n",
       "      <td>New surveys over the last year show that the a...</td>\n",
       "      <td>science</td>\n",
       "    </tr>\n",
       "    <tr>\n",
       "      <th>23</th>\n",
       "      <td>A Year of Risk, Fear and Loss for Families in ...</td>\n",
       "      <td>For many nurses and doctors, medicine was an i...</td>\n",
       "      <td>science</td>\n",
       "    </tr>\n",
       "    <tr>\n",
       "      <th>24</th>\n",
       "      <td>European Countries Suspend Use of AstraZeneca ...</td>\n",
       "      <td>Millions of people have received the vaccine w...</td>\n",
       "      <td>science</td>\n",
       "    </tr>\n",
       "    <tr>\n",
       "      <th>25</th>\n",
       "      <td>More Childhood Lead Poisoning Is a Side Effect...</td>\n",
       "      <td>Lead screenings for children plummeted last sp...</td>\n",
       "      <td>science</td>\n",
       "    </tr>\n",
       "    <tr>\n",
       "      <th>26</th>\n",
       "      <td>Senate Confirms Biden’s Pick to Lead E.P.A.</td>\n",
       "      <td>Michael S. Regan has said he intends to act ag...</td>\n",
       "      <td>science</td>\n",
       "    </tr>\n",
       "    <tr>\n",
       "      <th>27</th>\n",
       "      <td>Sickle Cell Treatment Not Linked to Cancer, Re...</td>\n",
       "      <td>Trials of experimental gene therapy for sickle...</td>\n",
       "      <td>science</td>\n",
       "    </tr>\n",
       "    <tr>\n",
       "      <th>28</th>\n",
       "      <td>Las mujeres informan de peores efectos secunda...</td>\n",
       "      <td>Los hombres y las mujeres suelen responder de ...</td>\n",
       "      <td>science</td>\n",
       "    </tr>\n",
       "    <tr>\n",
       "      <th>29</th>\n",
       "      <td>China and Russia Agree to Explore the Moon Tog...</td>\n",
       "      <td>The two countries, moving increasingly closer,...</td>\n",
       "      <td>science</td>\n",
       "    </tr>\n",
       "  </tbody>\n",
       "</table>\n",
       "</div>"
      ],
      "text/plain": [
       "                                        news_headline  \\\n",
       "20  Coyote That Attacked Five in Bay Area Is Final...   \n",
       "21  Countries Tried to Curb Trade in Plastic Waste...   \n",
       "22  Why Older People Managed to Stay Happier Throu...   \n",
       "23  A Year of Risk, Fear and Loss for Families in ...   \n",
       "24  European Countries Suspend Use of AstraZeneca ...   \n",
       "25  More Childhood Lead Poisoning Is a Side Effect...   \n",
       "26        Senate Confirms Biden’s Pick to Lead E.P.A.   \n",
       "27  Sickle Cell Treatment Not Linked to Cancer, Re...   \n",
       "28  Las mujeres informan de peores efectos secunda...   \n",
       "29  China and Russia Agree to Explore the Moon Tog...   \n",
       "\n",
       "                                         news_article news_category  \n",
       "20  The animal, which had bitten five people, incl...       science  \n",
       "21  Data shows that American exporters continue to...       science  \n",
       "22  New surveys over the last year show that the a...       science  \n",
       "23  For many nurses and doctors, medicine was an i...       science  \n",
       "24  Millions of people have received the vaccine w...       science  \n",
       "25  Lead screenings for children plummeted last sp...       science  \n",
       "26  Michael S. Regan has said he intends to act ag...       science  \n",
       "27  Trials of experimental gene therapy for sickle...       science  \n",
       "28  Los hombres y las mujeres suelen responder de ...       science  \n",
       "29  The two countries, moving increasingly closer,...       science  "
      ]
     },
     "execution_count": 6,
     "metadata": {},
     "output_type": "execute_result"
    }
   ],
   "source": [
    "news_df.tail(10)"
   ]
  },
  {
   "cell_type": "code",
   "execution_count": 7,
   "metadata": {},
   "outputs": [
    {
     "data": {
      "text/plain": [
       "technology    10\n",
       "world         10\n",
       "science       10\n",
       "Name: news_category, dtype: int64"
      ]
     },
     "execution_count": 7,
     "metadata": {},
     "output_type": "execute_result"
    }
   ],
   "source": [
    "news_df.news_category.value_counts()"
   ]
  },
  {
   "cell_type": "code",
   "execution_count": 8,
   "metadata": {},
   "outputs": [],
   "source": [
    "def strip_html_tags(text):\n",
    "    soup = BeautifulSoup(text, \"html.parser\")\n",
    "    return soup.get_text()"
   ]
  },
  {
   "cell_type": "code",
   "execution_count": 9,
   "metadata": {},
   "outputs": [],
   "source": [
    "def remove_accented_chars(text):\n",
    "    return unicodedata.normalize('NFKD', text).encode('ascii', 'ignore').decode('utf-8', 'ignore')"
   ]
  },
  {
   "cell_type": "code",
   "execution_count": 10,
   "metadata": {},
   "outputs": [],
   "source": [
    "def remove_special_chars(text, remove_digits = False):\n",
    "    pattern = r'[^a-zA-Z0-9\\s]' if not remove_digits else r'[^a-zA-Z\\s]'\n",
    "    return re.sub(pattern, ' ', text)"
   ]
  },
  {
   "cell_type": "code",
   "execution_count": 11,
   "metadata": {},
   "outputs": [],
   "source": [
    "def simple_stemmer(text):\n",
    "    ps = nltk.porter.PorterStemmer()\n",
    "    return ' '.join([ps.stem(word) for word in text.split()])"
   ]
  },
  {
   "cell_type": "code",
   "execution_count": 12,
   "metadata": {},
   "outputs": [],
   "source": [
    "def lemmatize_text(text):\n",
    "    text = nlp(text)\n",
    "    return ' '.join([word.lemma_ if word.lemma_ != '-PRON-' else word.text for word in text])"
   ]
  },
  {
   "cell_type": "code",
   "execution_count": 13,
   "metadata": {},
   "outputs": [],
   "source": [
    "tokenizer = ToktokTokenizer()\n",
    "stopword_list = nltk.corpus.stopwords.words('english')\n",
    "stopword_list.remove('no')\n",
    "stopword_list.remove('not')"
   ]
  },
  {
   "cell_type": "code",
   "execution_count": 14,
   "metadata": {},
   "outputs": [],
   "source": [
    "def remove_stopwords(text, is_lower_case = False):\n",
    "    tokens = [token.strip() for token in tokenizer.tokenize(text)]\n",
    "    if is_lower_case:\n",
    "        filtered_tokens = [token for token in tokens if token not in stopword_list]\n",
    "    else:\n",
    "        filtered_tokens = [token for token in tokens if token.lower() not in stopword_list]\n",
    "    return ' '.join(filtered_tokens)"
   ]
  },
  {
   "cell_type": "code",
   "execution_count": 15,
   "metadata": {},
   "outputs": [],
   "source": [
    "def normalize_corpus(corpus, html_stripping = True, contraction_expansion = True, \n",
    "                     accented_char_removal = True, text_lower_case = True,\n",
    "                     text_lemmatization = True, special_char_removal = True,\n",
    "                     stopword_removal = True, remove_digits = True):\n",
    "    normalized_corpus = []\n",
    "    for doc in corpus:\n",
    "        if html_stripping:\n",
    "            doc = strip_html_tags(doc)\n",
    "        if accented_char_removal:\n",
    "            doc = remove_accented_chars(doc)\n",
    "        if contraction_expansion:\n",
    "            doc = contractions.fix(doc)\n",
    "        if text_lower_case:\n",
    "            doc = doc.lower()\n",
    "        doc = re.sub(r'[\\r|\\n|\\r|\\n|]+', ' ', doc)\n",
    "        if text_lemmatization:\n",
    "            doc = lemmatize_text(doc)\n",
    "        if special_char_removal:\n",
    "            special_char_pattern = re.compile(r'([{.(-)!}])')\n",
    "            doc = special_char_pattern.sub(\" \\\\1\", doc)\n",
    "            doc = remove_special_chars(doc, remove_digits = remove_digits)\n",
    "        doc = re.sub(' +', ' ', doc)\n",
    "        if stopword_removal:\n",
    "            doc = remove_stopwords(doc, is_lower_case = text_lower_case)\n",
    "        \n",
    "        normalized_corpus.append(doc)\n",
    "    return normalized_corpus"
   ]
  },
  {
   "cell_type": "code",
   "execution_count": 18,
   "metadata": {},
   "outputs": [
    {
     "data": {
      "text/plain": [
       "{'full_text': 'Sorry About Your Sleep. A group of U.S. senators has joined the ranks of those who want to abolish daylight saving time, which has roots in cost-cutting strategies of the late 19th century.',\n",
       " 'clean_text': 'sorry sleep group senator join rank want abolish daylight saving time root cost cut strategy late th century'}"
      ]
     },
     "execution_count": 18,
     "metadata": {},
     "output_type": "execute_result"
    }
   ],
   "source": [
    "news_df['full_text'] = news_df[\"news_headline\"].map(str) + '. ' + news_df[\"news_article\"]\n",
    "\n",
    "news_df['clean_text'] = normalize_corpus(news_df['full_text'])\n",
    "norm_corpus = list(news_df['clean_text'])\n",
    "\n",
    "news_df.iloc[0][['full_text', 'clean_text']].to_dict()"
   ]
  },
  {
   "cell_type": "code",
   "execution_count": 17,
   "metadata": {},
   "outputs": [],
   "source": [
    "# news_df.to_csv('new.csv', index = False, encoding = 'utf-8')"
   ]
  }
 ],
 "metadata": {
  "kernelspec": {
   "display_name": "Python 3",
   "language": "python",
   "name": "python3"
  },
  "language_info": {
   "codemirror_mode": {
    "name": "ipython",
    "version": 3
   },
   "file_extension": ".py",
   "mimetype": "text/x-python",
   "name": "python",
   "nbconvert_exporter": "python",
   "pygments_lexer": "ipython3",
   "version": "3.8.3"
  }
 },
 "nbformat": 4,
 "nbformat_minor": 4
}
