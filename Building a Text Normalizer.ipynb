{
 "cells": [
  {
   "cell_type": "code",
   "execution_count": 1,
   "metadata": {},
   "outputs": [],
   "source": [
    "import requests\n",
    "from bs4 import BeautifulSoup\n",
    "import pandas as pd\n",
    "\n",
    "import unicodedata\n",
    "import re\n",
    "import spacy\n",
    "import nltk\n",
    "from nltk.tokenize.toktok import ToktokTokenizer\n",
    "import contractions \n",
    "\n",
    "nlp = spacy.load('en_core_web_sm')"
   ]
  },
  {
   "cell_type": "code",
   "execution_count": 2,
   "metadata": {},
   "outputs": [],
   "source": [
    "seed_urls = [\n",
    "    \"https://inshorts.com/en/read/technology\",\n",
    "    \"https://inshorts.com/en/read/sports\",\n",
    "    \"https://inshorts.com/en/read/world\",\n",
    "]"
   ]
  },
  {
   "cell_type": "code",
   "execution_count": 3,
   "metadata": {},
   "outputs": [],
   "source": [
    "def build_dataset(seed_urls):\n",
    "    news_data = []\n",
    "    for url in seed_urls:\n",
    "        news_category = url.split('/')[-1]\n",
    "        data = requests.get(url)\n",
    "        soup = BeautifulSoup(data.content, 'html.parser')\n",
    "        news_articles = [\n",
    "            {\n",
    "                'news_headline': headline.find('span', attrs={'itemprop': 'headline'}).string,\n",
    "                'news_article': article.find('div', attrs={'itemprop': 'articleBody'}).string,\n",
    "                'news_category': news_category\n",
    "            } \n",
    "            for headline, article in zip(\n",
    "                soup('div', class_=[\"news-card-title news-right-box\"]),\n",
    "                soup('div', class_=[\"news-card-content news-right-box\"]),\n",
    "            )\n",
    "        ]\n",
    "        news_data.extend(news_articles)\n",
    "    \n",
    "    df = pd.DataFrame(news_data)\n",
    "    df = df[['news_headline', 'news_article', 'news_category']]\n",
    "    return df"
   ]
  },
  {
   "cell_type": "code",
   "execution_count": 4,
   "metadata": {},
   "outputs": [],
   "source": [
    "news_df = build_dataset(seed_urls)"
   ]
  },
  {
   "cell_type": "code",
   "execution_count": 5,
   "metadata": {},
   "outputs": [
    {
     "data": {
      "text/html": [
       "<div>\n",
       "<style scoped>\n",
       "    .dataframe tbody tr th:only-of-type {\n",
       "        vertical-align: middle;\n",
       "    }\n",
       "\n",
       "    .dataframe tbody tr th {\n",
       "        vertical-align: top;\n",
       "    }\n",
       "\n",
       "    .dataframe thead th {\n",
       "        text-align: right;\n",
       "    }\n",
       "</style>\n",
       "<table border=\"1\" class=\"dataframe\">\n",
       "  <thead>\n",
       "    <tr style=\"text-align: right;\">\n",
       "      <th></th>\n",
       "      <th>news_headline</th>\n",
       "      <th>news_article</th>\n",
       "      <th>news_category</th>\n",
       "    </tr>\n",
       "  </thead>\n",
       "  <tbody>\n",
       "    <tr>\n",
       "      <th>0</th>\n",
       "      <td>Beeple among 3 most valuable living artists af...</td>\n",
       "      <td>US-based graphic designer Mike Winkelmann, the...</td>\n",
       "      <td>technology</td>\n",
       "    </tr>\n",
       "    <tr>\n",
       "      <th>1</th>\n",
       "      <td>Jhunjhunwala-backed Nazara Tech to open ₹583-c...</td>\n",
       "      <td>Mumbai-based Nazara Technologies, backed by bi...</td>\n",
       "      <td>technology</td>\n",
       "    </tr>\n",
       "    <tr>\n",
       "      <th>2</th>\n",
       "      <td>Netflix tests way to prevent password sharing;...</td>\n",
       "      <td>Netflix is trialling a way to prevent password...</td>\n",
       "      <td>technology</td>\n",
       "    </tr>\n",
       "    <tr>\n",
       "      <th>3</th>\n",
       "      <td>Apple sues ex-employee for allegedly stealing ...</td>\n",
       "      <td>Apple is suing a former employee on accusation...</td>\n",
       "      <td>technology</td>\n",
       "    </tr>\n",
       "    <tr>\n",
       "      <th>4</th>\n",
       "      <td>LED TV prices to rise from April as open-cell ...</td>\n",
       "      <td>Prices of LED televisions may rise further fro...</td>\n",
       "      <td>technology</td>\n",
       "    </tr>\n",
       "    <tr>\n",
       "      <th>5</th>\n",
       "      <td>China denies plan for near $1 bn fine on Aliba...</td>\n",
       "      <td>Chinese market regulator has refuted a Wall St...</td>\n",
       "      <td>technology</td>\n",
       "    </tr>\n",
       "    <tr>\n",
       "      <th>6</th>\n",
       "      <td>Ant Group CEO Simon Hu resigns due to 'persona...</td>\n",
       "      <td>China's Ant Group CEO Simon Hu has resigned fr...</td>\n",
       "      <td>technology</td>\n",
       "    </tr>\n",
       "    <tr>\n",
       "      <th>7</th>\n",
       "      <td>Bitcoin tops $57,000 as US passes $1.9 tn COVI...</td>\n",
       "      <td>Bitcoin prices crossed $57,000-mark for the fi...</td>\n",
       "      <td>technology</td>\n",
       "    </tr>\n",
       "    <tr>\n",
       "      <th>8</th>\n",
       "      <td>Govt likely to block carriers from using Huawe...</td>\n",
       "      <td>The government is likely to block Indian mobil...</td>\n",
       "      <td>technology</td>\n",
       "    </tr>\n",
       "    <tr>\n",
       "      <th>9</th>\n",
       "      <td>Microsoft willing to break the way open web wo...</td>\n",
       "      <td>Google has claimed Microsoft is willing \"to br...</td>\n",
       "      <td>technology</td>\n",
       "    </tr>\n",
       "  </tbody>\n",
       "</table>\n",
       "</div>"
      ],
      "text/plain": [
       "                                       news_headline  \\\n",
       "0  Beeple among 3 most valuable living artists af...   \n",
       "1  Jhunjhunwala-backed Nazara Tech to open ₹583-c...   \n",
       "2  Netflix tests way to prevent password sharing;...   \n",
       "3  Apple sues ex-employee for allegedly stealing ...   \n",
       "4  LED TV prices to rise from April as open-cell ...   \n",
       "5  China denies plan for near $1 bn fine on Aliba...   \n",
       "6  Ant Group CEO Simon Hu resigns due to 'persona...   \n",
       "7  Bitcoin tops $57,000 as US passes $1.9 tn COVI...   \n",
       "8  Govt likely to block carriers from using Huawe...   \n",
       "9  Microsoft willing to break the way open web wo...   \n",
       "\n",
       "                                        news_article news_category  \n",
       "0  US-based graphic designer Mike Winkelmann, the...    technology  \n",
       "1  Mumbai-based Nazara Technologies, backed by bi...    technology  \n",
       "2  Netflix is trialling a way to prevent password...    technology  \n",
       "3  Apple is suing a former employee on accusation...    technology  \n",
       "4  Prices of LED televisions may rise further fro...    technology  \n",
       "5  Chinese market regulator has refuted a Wall St...    technology  \n",
       "6  China's Ant Group CEO Simon Hu has resigned fr...    technology  \n",
       "7  Bitcoin prices crossed $57,000-mark for the fi...    technology  \n",
       "8  The government is likely to block Indian mobil...    technology  \n",
       "9  Google has claimed Microsoft is willing \"to br...    technology  "
      ]
     },
     "execution_count": 5,
     "metadata": {},
     "output_type": "execute_result"
    }
   ],
   "source": [
    "news_df.head(10)"
   ]
  },
  {
   "cell_type": "code",
   "execution_count": 6,
   "metadata": {},
   "outputs": [
    {
     "data": {
      "text/html": [
       "<div>\n",
       "<style scoped>\n",
       "    .dataframe tbody tr th:only-of-type {\n",
       "        vertical-align: middle;\n",
       "    }\n",
       "\n",
       "    .dataframe tbody tr th {\n",
       "        vertical-align: top;\n",
       "    }\n",
       "\n",
       "    .dataframe thead th {\n",
       "        text-align: right;\n",
       "    }\n",
       "</style>\n",
       "<table border=\"1\" class=\"dataframe\">\n",
       "  <thead>\n",
       "    <tr style=\"text-align: right;\">\n",
       "      <th></th>\n",
       "      <th>news_headline</th>\n",
       "      <th>news_article</th>\n",
       "      <th>news_category</th>\n",
       "    </tr>\n",
       "  </thead>\n",
       "  <tbody>\n",
       "    <tr>\n",
       "      <th>65</th>\n",
       "      <td>UK tells its citizens to flee Myanmar as 'leve...</td>\n",
       "      <td>The UK has urged its citizens to flee Myanmar ...</td>\n",
       "      <td>world</td>\n",
       "    </tr>\n",
       "    <tr>\n",
       "      <th>66</th>\n",
       "      <td>Nepal bans taking pictures, videos of stranger...</td>\n",
       "      <td>The Nepal government has banned expedition tea...</td>\n",
       "      <td>world</td>\n",
       "    </tr>\n",
       "    <tr>\n",
       "      <th>67</th>\n",
       "      <td>Army is threatening my daughter Maryam: Ex-Pak...</td>\n",
       "      <td>Former Pakistan PM Nawaz Sharif said that the ...</td>\n",
       "      <td>world</td>\n",
       "    </tr>\n",
       "    <tr>\n",
       "      <th>68</th>\n",
       "      <td>65 media workers killed worldwide in 2020 whil...</td>\n",
       "      <td>Sixty-five journalists and media workers were ...</td>\n",
       "      <td>world</td>\n",
       "    </tr>\n",
       "    <tr>\n",
       "      <th>69</th>\n",
       "      <td>S Korea to suspend defence exchanges with Myan...</td>\n",
       "      <td>South Korea's Foreign Ministry has said that i...</td>\n",
       "      <td>world</td>\n",
       "    </tr>\n",
       "    <tr>\n",
       "      <th>70</th>\n",
       "      <td>UK economy shrinks 2.9% in January over COVID ...</td>\n",
       "      <td>The UK economy shrank 2.9% in January, as per ...</td>\n",
       "      <td>world</td>\n",
       "    </tr>\n",
       "    <tr>\n",
       "      <th>71</th>\n",
       "      <td>EU declared an 'LGBTIQ Freedom Zone' in respon...</td>\n",
       "      <td>European Parliament passed a resolution on Thu...</td>\n",
       "      <td>world</td>\n",
       "    </tr>\n",
       "    <tr>\n",
       "      <th>72</th>\n",
       "      <td>US state passes bill to end yoga ban, use of '...</td>\n",
       "      <td>US' Alabama has approved a bill that'd allow p...</td>\n",
       "      <td>world</td>\n",
       "    </tr>\n",
       "    <tr>\n",
       "      <th>73</th>\n",
       "      <td>US issues notification to delay mandatory mini...</td>\n",
       "      <td>US President Joe Biden's administration on Fri...</td>\n",
       "      <td>world</td>\n",
       "    </tr>\n",
       "    <tr>\n",
       "      <th>74</th>\n",
       "      <td>US offers temporary refuge to Myanmar national...</td>\n",
       "      <td>US President Joe Biden's administration on Fri...</td>\n",
       "      <td>world</td>\n",
       "    </tr>\n",
       "  </tbody>\n",
       "</table>\n",
       "</div>"
      ],
      "text/plain": [
       "                                        news_headline  \\\n",
       "65  UK tells its citizens to flee Myanmar as 'leve...   \n",
       "66  Nepal bans taking pictures, videos of stranger...   \n",
       "67  Army is threatening my daughter Maryam: Ex-Pak...   \n",
       "68  65 media workers killed worldwide in 2020 whil...   \n",
       "69  S Korea to suspend defence exchanges with Myan...   \n",
       "70  UK economy shrinks 2.9% in January over COVID ...   \n",
       "71  EU declared an 'LGBTIQ Freedom Zone' in respon...   \n",
       "72  US state passes bill to end yoga ban, use of '...   \n",
       "73  US issues notification to delay mandatory mini...   \n",
       "74  US offers temporary refuge to Myanmar national...   \n",
       "\n",
       "                                         news_article news_category  \n",
       "65  The UK has urged its citizens to flee Myanmar ...         world  \n",
       "66  The Nepal government has banned expedition tea...         world  \n",
       "67  Former Pakistan PM Nawaz Sharif said that the ...         world  \n",
       "68  Sixty-five journalists and media workers were ...         world  \n",
       "69  South Korea's Foreign Ministry has said that i...         world  \n",
       "70  The UK economy shrank 2.9% in January, as per ...         world  \n",
       "71  European Parliament passed a resolution on Thu...         world  \n",
       "72  US' Alabama has approved a bill that'd allow p...         world  \n",
       "73  US President Joe Biden's administration on Fri...         world  \n",
       "74  US President Joe Biden's administration on Fri...         world  "
      ]
     },
     "execution_count": 6,
     "metadata": {},
     "output_type": "execute_result"
    }
   ],
   "source": [
    "news_df.tail(10)"
   ]
  },
  {
   "cell_type": "code",
   "execution_count": 7,
   "metadata": {},
   "outputs": [
    {
     "data": {
      "text/plain": [
       "sports        25\n",
       "world         25\n",
       "technology    25\n",
       "Name: news_category, dtype: int64"
      ]
     },
     "execution_count": 7,
     "metadata": {},
     "output_type": "execute_result"
    }
   ],
   "source": [
    "news_df.news_category.value_counts()"
   ]
  },
  {
   "cell_type": "code",
   "execution_count": 8,
   "metadata": {},
   "outputs": [],
   "source": [
    "def strip_html_tags(text):\n",
    "    soup = BeautifulSoup(text, \"html.parser\")\n",
    "    return soup.get_text()"
   ]
  },
  {
   "cell_type": "code",
   "execution_count": 9,
   "metadata": {},
   "outputs": [],
   "source": [
    "def remove_accented_chars(text):\n",
    "    return unicodedata.normalize('NFKD', text).encode('ascii', 'ignore').decode('utf-8', 'ignore')"
   ]
  },
  {
   "cell_type": "code",
   "execution_count": 10,
   "metadata": {},
   "outputs": [],
   "source": [
    "def remove_special_chars(text, remove_digits = False):\n",
    "    pattern = r'[^a-zA-Z0-9\\s]' if not remove_digits else r'[^a-zA-Z\\s]'\n",
    "    return re.sub(pattern, ' ', text)"
   ]
  },
  {
   "cell_type": "code",
   "execution_count": 11,
   "metadata": {},
   "outputs": [],
   "source": [
    "def simple_stemmer(text):\n",
    "    ps = nltk.porter.PorterStemmer()\n",
    "    return ' '.join([ps.stem(word) for word in text.split()])"
   ]
  },
  {
   "cell_type": "code",
   "execution_count": 12,
   "metadata": {},
   "outputs": [],
   "source": [
    "def lemmatize_text(text):\n",
    "    text = nlp(text)\n",
    "    return ' '.join([word.lemma_ if word.lemma_ != '-PRON-' else word.text for word in text])"
   ]
  },
  {
   "cell_type": "code",
   "execution_count": 13,
   "metadata": {},
   "outputs": [],
   "source": [
    "tokenizer = ToktokTokenizer()\n",
    "stopword_list = nltk.corpus.stopwords.words('english')\n",
    "stopword_list.remove('no')\n",
    "stopword_list.remove('not')"
   ]
  },
  {
   "cell_type": "code",
   "execution_count": 14,
   "metadata": {},
   "outputs": [],
   "source": [
    "def remove_stopwords(text, is_lower_case = False):\n",
    "    tokens = [token.strip() for token in tokenizer.tokenize(text)]\n",
    "    if is_lower_case:\n",
    "        filtered_tokens = [token for token in tokens if token not in stopword_list]\n",
    "    else:\n",
    "        filtered_tokens = [token for token in tokens if token.lower() not in stopword_list]\n",
    "    return ' '.join(filtered_tokens)"
   ]
  },
  {
   "cell_type": "code",
   "execution_count": 15,
   "metadata": {},
   "outputs": [],
   "source": [
    "def normalize_corpus(corpus, html_stripping = True, contraction_expansion = True, \n",
    "                     accented_char_removal = True, text_lower_case = True,\n",
    "                     text_lemmatization = True, special_char_removal = True,\n",
    "                     stopword_removal = True, remove_digits = True):\n",
    "    normalized_corpus = []\n",
    "    for doc in corpus:\n",
    "        if html_stripping:\n",
    "            doc = strip_html_tags(doc)\n",
    "        if accented_char_removal:\n",
    "            doc = remove_accented_chars(doc)\n",
    "        if contraction_expansion:\n",
    "            doc = contractions.fix(doc)\n",
    "        if text_lower_case:\n",
    "            doc = doc.lower()\n",
    "        doc = re.sub(r'[\\r|\\n|\\r|\\n|]+', ' ', doc)\n",
    "        if text_lemmatization:\n",
    "            doc = lemmatize_text(doc)\n",
    "        if special_char_removal:\n",
    "            special_char_pattern = re.compile(r'([{.(-)!}])')\n",
    "            doc = special_char_pattern.sub(\" \\\\1\", doc)\n",
    "            doc = remove_special_chars(doc, remove_digits = remove_digits)\n",
    "        doc = re.sub(' +', ' ', doc)\n",
    "        if stopword_removal:\n",
    "            doc = remove_stopwords(doc, is_lower_case = text_lower_case)\n",
    "        \n",
    "        normalized_corpus.append(doc)\n",
    "    return normalized_corpus"
   ]
  },
  {
   "cell_type": "code",
   "execution_count": 16,
   "metadata": {},
   "outputs": [
    {
     "data": {
      "text/plain": [
       "{'full_text': 'Govt likely to block carriers from using Huawei equipment: Report . The government is likely to block Indian mobile carriers from using Huawei\\'s telecom equipment, Reuters reported, citing government officials. This comes after the government said it would publish a list of \"trusted sources\" for operators to buy telecom equipment from. The government could also create a \"no procurement\" blacklist which could include China\\'s Huawei, the report said.',\n",
       " 'clean_text': 'govt likely block carrier use huawei equipment report government likely block indian mobile carrier use huawei telecom equipment reuter report cite government official come government say would publish list trust source operator buy telecom equipment government could also create no procurement blacklist could include china huawei report say'}"
      ]
     },
     "execution_count": 16,
     "metadata": {},
     "output_type": "execute_result"
    }
   ],
   "source": [
    "news_df['full_text'] = news_df[\"news_headline\"].map(str) + '. ' + news_df[\"news_article\"]\n",
    "\n",
    "news_df['clean_text'] = normalize_corpus(news_df['full_text'])\n",
    "norm_corpus = list(news_df['clean_text'])\n",
    "\n",
    "news_df.iloc[8][['full_text', 'clean_text']].to_dict()"
   ]
  },
  {
   "cell_type": "code",
   "execution_count": 17,
   "metadata": {},
   "outputs": [],
   "source": [
    "# news_df.to_csv('new.csv', index = False, encoding = 'utf-8')"
   ]
  }
 ],
 "metadata": {
  "kernelspec": {
   "display_name": "Python 3",
   "language": "python",
   "name": "python3"
  },
  "language_info": {
   "codemirror_mode": {
    "name": "ipython",
    "version": 3
   },
   "file_extension": ".py",
   "mimetype": "text/x-python",
   "name": "python",
   "nbconvert_exporter": "python",
   "pygments_lexer": "ipython3",
   "version": "3.8.3"
  }
 },
 "nbformat": 4,
 "nbformat_minor": 4
}
